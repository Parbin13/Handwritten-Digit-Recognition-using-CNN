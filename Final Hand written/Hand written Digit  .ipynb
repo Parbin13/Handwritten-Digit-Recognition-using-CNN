{
 "cells": [
  {
   "cell_type": "code",
   "execution_count": 41,
   "id": "28412da1",
   "metadata": {},
   "outputs": [],
   "source": [
    "import numpy as np\n",
    "from tensorflow import keras\n",
    "from tensorflow.keras import layers"
   ]
  },
  {
   "cell_type": "code",
   "execution_count": 42,
   "id": "99ec25e9",
   "metadata": {},
   "outputs": [],
   "source": [
    "# Set the number of categories and define the shape of input images\n",
    "num_categories = 10\n",
    "input_shape = (28, 28, 1)\n"
   ]
  },
  {
   "cell_type": "code",
   "execution_count": 43,
   "id": "0b33e243",
   "metadata": {},
   "outputs": [],
   "source": [
    "# Load the MNIST dataset and split it into training and testing sets\n",
    "(train_images, train_labels), (test_images, test_labels) = keras.datasets.mnist.load_data()\n"
   ]
  },
  {
   "cell_type": "code",
   "execution_count": 44,
   "id": "d0044a98",
   "metadata": {},
   "outputs": [],
   "source": [
    "# Normalize the pixel values of the images to a range between 0 and 1\n",
    "train_images = train_images.astype(\"float32\") / 255.0\n",
    "test_images = test_images.astype(\"float32\") / 255.0"
   ]
  },
  {
   "cell_type": "code",
   "execution_count": 45,
   "id": "9a3f088e",
   "metadata": {},
   "outputs": [],
   "source": [
    "# Expand the dimensions of the images to include the color channel\n",
    "train_images = np.expand_dims(train_images, -1)\n",
    "test_images = np.expand_dims(test_images, -1)\n"
   ]
  },
  {
   "cell_type": "code",
   "execution_count": 46,
   "id": "ecb38690",
   "metadata": {},
   "outputs": [],
   "source": [
    "# Convert class labels to categorical matrices\n",
    "train_labels = keras.utils.to_categorical(train_labels, num_categories)\n",
    "test_labels = keras.utils.to_categorical(test_labels, num_categories)\n"
   ]
  },
  {
   "cell_type": "code",
   "execution_count": 47,
   "id": "b5eee733",
   "metadata": {},
   "outputs": [],
   "source": [
    "# Define a modified convolutional neural network architecture\n",
    "model = keras.Sequential([\n",
    "    keras.Input(shape=input_shape),\n",
    "    layers.Conv2D(32, kernel_size=(3, 3), activation=\"relu\"),\n",
    "    layers.MaxPooling2D(pool_size=(2, 2)),\n",
    "    layers.Conv2D(64, kernel_size=(3, 3), activation=\"relu\"),\n",
    "    layers.MaxPooling2D(pool_size=(2, 2)),\n",
    "    layers.Conv2D(128, kernel_size=(3, 3), activation=\"relu\"),\n",
    "    layers.Flatten(),\n",
    "    layers.Dropout(0.5),\n",
    "    layers.Dense(256, activation=\"relu\"),\n",
    "    layers.Dense(num_categories, activation=\"softmax\")\n",
    "])\n"
   ]
  },
  {
   "cell_type": "code",
   "execution_count": 48,
   "id": "a82d2cc6",
   "metadata": {},
   "outputs": [
    {
     "name": "stdout",
     "output_type": "stream",
     "text": [
      "Model: \"sequential_2\"\n",
      "_________________________________________________________________\n",
      " Layer (type)                Output Shape              Param #   \n",
      "=================================================================\n",
      " conv2d_6 (Conv2D)           (None, 26, 26, 32)        320       \n",
      "                                                                 \n",
      " max_pooling2d_4 (MaxPoolin  (None, 13, 13, 32)        0         \n",
      " g2D)                                                            \n",
      "                                                                 \n",
      " conv2d_7 (Conv2D)           (None, 11, 11, 64)        18496     \n",
      "                                                                 \n",
      " max_pooling2d_5 (MaxPoolin  (None, 5, 5, 64)          0         \n",
      " g2D)                                                            \n",
      "                                                                 \n",
      " conv2d_8 (Conv2D)           (None, 3, 3, 128)         73856     \n",
      "                                                                 \n",
      " flatten_2 (Flatten)         (None, 1152)              0         \n",
      "                                                                 \n",
      " dropout_2 (Dropout)         (None, 1152)              0         \n",
      "                                                                 \n",
      " dense_4 (Dense)             (None, 256)               295168    \n",
      "                                                                 \n",
      " dense_5 (Dense)             (None, 10)                2570      \n",
      "                                                                 \n",
      "=================================================================\n",
      "Total params: 390410 (1.49 MB)\n",
      "Trainable params: 390410 (1.49 MB)\n",
      "Non-trainable params: 0 (0.00 Byte)\n",
      "_________________________________________________________________\n"
     ]
    }
   ],
   "source": [
    "# Display the summary of the model architecture\n",
    "model.summary()\n"
   ]
  },
  {
   "cell_type": "code",
   "execution_count": 49,
   "id": "487dbff2",
   "metadata": {},
   "outputs": [],
   "source": [
    "# Compile the model with specified optimizer and loss function\n",
    "model.compile(optimizer=\"adam\", loss=\"categorical_crossentropy\", metrics=[\"accuracy\"])\n"
   ]
  },
  {
   "cell_type": "code",
   "execution_count": 50,
   "id": "724102cf",
   "metadata": {},
   "outputs": [],
   "source": [
    "# Set the batch size and number of epochs for training\n",
    "batch_size = 128\n",
    "epochs = 15\n"
   ]
  },
  {
   "cell_type": "code",
   "execution_count": 51,
   "id": "3fe0d70d",
   "metadata": {},
   "outputs": [
    {
     "name": "stdout",
     "output_type": "stream",
     "text": [
      "Epoch 1/15\n",
      "469/469 [==============================] - 20s 41ms/step - loss: 0.2338 - accuracy: 0.9268\n",
      "Epoch 2/15\n",
      "469/469 [==============================] - 19s 40ms/step - loss: 0.0647 - accuracy: 0.9803\n",
      "Epoch 3/15\n",
      "469/469 [==============================] - 19s 40ms/step - loss: 0.0501 - accuracy: 0.9840\n",
      "Epoch 4/15\n",
      "469/469 [==============================] - 20s 43ms/step - loss: 0.0431 - accuracy: 0.9866\n",
      "Epoch 5/15\n",
      "469/469 [==============================] - 20s 43ms/step - loss: 0.0342 - accuracy: 0.9900\n",
      "Epoch 6/15\n",
      "469/469 [==============================] - 20s 42ms/step - loss: 0.0304 - accuracy: 0.9904\n",
      "Epoch 7/15\n",
      "469/469 [==============================] - 20s 42ms/step - loss: 0.0272 - accuracy: 0.9915\n",
      "Epoch 8/15\n",
      "469/469 [==============================] - 20s 42ms/step - loss: 0.0228 - accuracy: 0.9926\n",
      "Epoch 9/15\n",
      "469/469 [==============================] - 20s 42ms/step - loss: 0.0224 - accuracy: 0.9929\n",
      "Epoch 10/15\n",
      "469/469 [==============================] - 19s 40ms/step - loss: 0.0198 - accuracy: 0.9934\n",
      "Epoch 11/15\n",
      "469/469 [==============================] - 19s 41ms/step - loss: 0.0172 - accuracy: 0.9943\n",
      "Epoch 12/15\n",
      "469/469 [==============================] - 20s 42ms/step - loss: 0.0164 - accuracy: 0.9945\n",
      "Epoch 13/15\n",
      "469/469 [==============================] - 20s 42ms/step - loss: 0.0144 - accuracy: 0.9951\n",
      "Epoch 14/15\n",
      "469/469 [==============================] - 22s 47ms/step - loss: 0.0144 - accuracy: 0.9950\n",
      "Epoch 15/15\n",
      "469/469 [==============================] - 20s 42ms/step - loss: 0.0122 - accuracy: 0.9963\n"
     ]
    },
    {
     "data": {
      "text/plain": [
       "<keras.src.callbacks.History at 0x1e7cd216390>"
      ]
     },
     "execution_count": 51,
     "metadata": {},
     "output_type": "execute_result"
    }
   ],
   "source": [
    "# Train the model using the training data\n",
    "model.fit(train_images, train_labels, batch_size=batch_size, epochs=epochs)"
   ]
  },
  {
   "cell_type": "code",
   "execution_count": 52,
   "id": "22c5589d",
   "metadata": {},
   "outputs": [
    {
     "name": "stdout",
     "output_type": "stream",
     "text": [
      "Test loss: 0.021707022562623024\n",
      "Test accuracy: 0.9937000274658203\n"
     ]
    }
   ],
   "source": [
    "# Evaluate the model performance on the test data\n",
    "evaluation = model.evaluate(test_images, test_labels, verbose=0)\n",
    "print(\"Test loss:\", evaluation[0])\n",
    "print(\"Test accuracy:\", evaluation[1])\n"
   ]
  },
  {
   "cell_type": "code",
   "execution_count": 53,
   "id": "62500987",
   "metadata": {},
   "outputs": [
    {
     "name": "stdout",
     "output_type": "stream",
     "text": [
      "INFO:tensorflow:Assets written to: D:\\PRABIN CNN\\assets\n"
     ]
    },
    {
     "name": "stderr",
     "output_type": "stream",
     "text": [
      "INFO:tensorflow:Assets written to: D:\\PRABIN CNN\\assets\n"
     ]
    }
   ],
   "source": [
    "# Save the trained model for future use\n",
    "model.save('D:\\PRABIN CNN')"
   ]
  },
  {
   "cell_type": "code",
   "execution_count": 54,
   "id": "7ad02a5f",
   "metadata": {},
   "outputs": [
    {
     "name": "stderr",
     "output_type": "stream",
     "text": [
      "C:\\Users\\prabi\\anaconda3\\Lib\\site-packages\\keras\\src\\engine\\training.py:3079: UserWarning: You are saving your model as an HDF5 file via `model.save()`. This file format is considered legacy. We recommend using instead the native Keras format, e.g. `model.save('my_model.keras')`.\n",
      "  saving_api.save_model(\n"
     ]
    }
   ],
   "source": [
    "model.save('MNIST_baseline_model.h5')"
   ]
  },
  {
   "cell_type": "code",
   "execution_count": 55,
   "id": "d72466e1",
   "metadata": {},
   "outputs": [],
   "source": [
    "model_path = 'D:\\Hand-digit/my_model.h5'  # Replace with your desired path\n"
   ]
  },
  {
   "cell_type": "code",
   "execution_count": 56,
   "id": "04fddb92",
   "metadata": {},
   "outputs": [],
   "source": [
    "model.save(model_path)"
   ]
  },
  {
   "cell_type": "code",
   "execution_count": 57,
   "id": "0de7690d",
   "metadata": {},
   "outputs": [],
   "source": [
    "from tensorflow.keras.models import load_model\n",
    "\n",
    "model = load_model('D:\\Hand-digit/my_model.h5')  # Replace with your model file\n"
   ]
  },
  {
   "cell_type": "code",
   "execution_count": 58,
   "id": "1321d32e",
   "metadata": {},
   "outputs": [],
   "source": [
    "from tensorflow.keras.preprocessing.image import img_to_array, load_img\n",
    "import numpy as np\n",
    "\n",
    "img = load_img('C:/Users/prabi/Downloads/sample_digit_7.png', color_mode='grayscale', target_size=(28, 28))\n",
    "\n",
    "\n",
    "# Convert the image to an array and normalize\n",
    "img_array = img_to_array(img) / 255.0\n",
    "\n",
    "# Reshape the array for the model\n",
    "img_array = img_array.reshape((1, 28, 28, 1))  # The first 1 is for the batch size\n"
   ]
  },
  {
   "cell_type": "code",
   "execution_count": 59,
   "id": "cdf9590e",
   "metadata": {},
   "outputs": [
    {
     "name": "stdout",
     "output_type": "stream",
     "text": [
      "1/1 [==============================] - 0s 58ms/step\n"
     ]
    }
   ],
   "source": [
    "prediction = model.predict(img_array)\n"
   ]
  },
  {
   "cell_type": "code",
   "execution_count": 60,
   "id": "430fcc61",
   "metadata": {},
   "outputs": [],
   "source": [
    "predicted_class = np.argmax(prediction, axis=1)\n"
   ]
  },
  {
   "cell_type": "code",
   "execution_count": 61,
   "id": "dcb7673a",
   "metadata": {},
   "outputs": [
    {
     "name": "stdout",
     "output_type": "stream",
     "text": [
      "The model predicts: 7\n"
     ]
    }
   ],
   "source": [
    "print(f\"The model predicts: {predicted_class[0]}\")\n"
   ]
  },
  {
   "cell_type": "code",
   "execution_count": null,
   "id": "2b998438",
   "metadata": {},
   "outputs": [],
   "source": []
  }
 ],
 "metadata": {
  "kernelspec": {
   "display_name": "Python 3 (ipykernel)",
   "language": "python",
   "name": "python3"
  },
  "language_info": {
   "codemirror_mode": {
    "name": "ipython",
    "version": 3
   },
   "file_extension": ".py",
   "mimetype": "text/x-python",
   "name": "python",
   "nbconvert_exporter": "python",
   "pygments_lexer": "ipython3",
   "version": "3.11.4"
  }
 },
 "nbformat": 4,
 "nbformat_minor": 5
}
